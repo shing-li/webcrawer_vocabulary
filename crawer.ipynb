{
 "cells": [
  {
   "cell_type": "code",
   "execution_count": 1,
   "metadata": {
    "scrolled": false
   },
   "outputs": [
    {
     "name": "stderr",
     "output_type": "stream",
     "text": [
      "c:\\users\\yuki\\appdata\\local\\programs\\python\\python37\\lib\\site-packages\\openpyxl\\worksheet\\_reader.py:296: UserWarning: Unknown extension is not supported and will be removed\n",
      "  warn(msg)\n"
     ]
    },
    {
     "name": "stdout",
     "output_type": "stream",
     "text": [
      "1.  To eject part or all of the contents of the stomach through the mouth, usually in a series of involuntary spasmic movements.\n",
      "1.  A piece of substantiating evidence; a proof.\n",
      "1.  To promise solemnly; pledge. See Synonyms at  promise.\n",
      "1. a.  Crudely indecent: a vulgar joke.b.  Deficient in taste, consideration, or refinement: \"that vulgar jockeying for position around the bedside of the gravely ill\" (Susan Sontag).c.  Given to crudity or tastelessness, as in one's behavior: \"He relentlessly vilified the studio executives as vulgar, ignorant hoodlums\" (Marion Meade).d.  Offensively excessive in self-display or expenditure; ostentatious: the huge vulgar houses and cars of the newly rich.\n",
      "1. a.  Susceptible to physical harm or damage: trees that are vulnerable to insects; b.  Susceptible to emotional injury, especially in being easily hurt: a lonely child who is vulnerable to teasing.c.  Susceptible to attack: \"We are vulnerable both by water and land, without either fleet or army\" (Alexander Hamilton).d.  Open to censure or criticism; assailable: The mayor is vulnerable to criticism on the issue.\n",
      "1. to walk with the feet immersed in (water, a stream, etc): the girls waded the river at the ford. \n",
      "1.  To move briskly and repeatedly from side to side, to and fro, or up and down: The dog's tail wagged.\n",
      "1.  To make a long, loud, high-pitched cry, as in grief, sorrow, or fear. See Synonyms at  cry.\n",
      "1.  Paper often colored and printed with designs and pasted to a wall as a decorative covering.\n",
      "1. a.  Any of several deciduous trees of the genus Juglans, having pinnately compound leaves and fruits with a rounded sticky husk that encloses an edible seed with a hard shell.b.  The nut or corrugated seed of any of these trees.\n",
      "1.  A tall cabinet, closet, or small room built to hold clothes.\n",
      "1.  An item that is offered for sale.\n",
      "1.  A place in which goods or merchandise are stored; a storehouse.\n",
      "1.  An order that serves as authorization, especially:a.  Law A judicial writ authorizing the search or seizure of property, arrest of a person, or the execution of a legal judgment.b.  A voucher authorizing payment or receipt of money.c.  An option to buy stock at a specified price from an issuing company.\n",
      "1.  A representation, especially in writing, made by a seller or company to a purchaser of a product or service that a refund, repair, or replacement will be made if the product or service proves defective or unsatisfactory, especially within a given time period.\n",
      "1. a.  A state of open, armed, often prolonged conflict carried on between nations, states, or parties.b.  The period of such conflict.c.  The techniques and procedures of war; military science.\n",
      "1.  One who is engaged in or experienced in battle.\n",
      " (Military) a. a period or time of warb. (as modifier): wartime conditions. \n",
      "1.  On guard; watchful: taught to be wary of strangers.\n",
      "1.  So tightly made that water cannot enter or escape.\n",
      " (Biography) James. 1736–1819, Scottish engineer and inventor. His fundamental improvements to the steam engine led to the widespread use of steam power in industry\n",
      "1.  The condition or quality of being weak.\n",
      "1.  Physically or mentally tired.\n",
      " (Computer Science) a group of connected pages on the World Wide Web containing information on a particular subject\n",
      "1.  To take as a spouse; marry.\n",
      "1.  A piece of material, such as metal or wood, thick at one edge and tapered to a thin edge at the other for insertion in a narrow crevice, used for splitting, tightening, securing, or levering.\n",
      "very small; tiny; minute\n",
      "1.  Strikingly odd or unusual, especially in an unsettling way; strange: He lives in a weird old house on a dark street. Your neighbor is said to be a little weird. I felt a little weird after drinking that tea.\n",
      "1.  To join (metals) by applying heat, sometimes with pressure and sometimes with an intermediate or filler metal having a high melting point.\n",
      "1.  A pier where ships or boats are tied up and loaded or unloaded.\n",
      " (postpositive) at all: used as an intensifier with indefinite pronouns and determiners such as none, any, no one, anybody, etc\n",
      " (Medicine) med a special chair mounted on large wheels, for use by invalids or others for whom walking is impossible or temporarily inadvisable\n",
      "1.  Also: whereabout at what approximate location or place; where: whereabouts are you?. \n",
      "1.  It being the fact that; inasmuch as.\n",
      "by or because of which: the means whereby he took his life. \n",
      "chiefly Brit another word for while1, while2, while3, while4, while5\n",
      "1.  To produce a sustained, high-pitched, plaintive sound, as in pain, fear, or complaint.\n",
      "1.  To rotate rapidly about a center or an axis; spin.\n",
      "1.  To move or cause to move with quick light sweeping motions: whisked crumbs off the table; whisked the children away.\n",
      "1.  An alcoholic liquor distilled from grain, such as corn, rye, or barley, and containing approximately 40 to 50 percent ethyl alcohol by volume.\n",
      "1.  Of, relating to, or engaged in the sale of goods in large quantities for resale: a wholesale produce market; wholesale goods; wholesale prices.\n",
      "1.  Conducive to or indicative of good health or well-being; salutary: simple, wholesome food; a wholesome complexion. See Synonyms at  healthy.\n",
      "1.  Completely; entirely: \"The old American purposes are still wholly relevant\" (John F. Kennedy).\n",
      "1.  A woman whose spouse has died and who has not remarried.\n",
      " (Hairdressing & Grooming) an artificial head of hair, either human or synthetic, worn to disguise baldness, as part of a theatrical or ceremonial dress, as a disguise, or for adornment\n",
      "1.  A pane of usually curved glass or other transparent shielding mounted in front of the occupants of a vehicle to protect them from the wind.\n",
      " (General Sporting Terms) sport a player stationed on the wing\n",
      "1. a.  Of or relating to the act of winning: drew the winning number in the lottery.b.  Successful; victorious: the winning entry; the winning team.\n",
      "1.  The act or process of withdrawing, as:a.  A retreat or retirement: the dinner guests' withdrawal to the den.b.  The removal of people from a place, as in the removal of troops from a military position.c.  Detachment, as from social or emotional involvement.d.  A removal of something that has been deposited, as in an account.\n",
      "1.  To dry up or shrivel from loss of moisture.\n",
      "1.  To refrain from giving or granting: withhold information; withhold judgment. See Synonyms at  keep.\n",
      "1.  To resist or oppose with determined effort: The soldiers withstood the attack.\n",
      "1.  Demonstrating wit in expression, especially in speech or writing; clever and humorous: a witty commentator on the political scene.\n",
      "1.  Sorrow or grief; misery. See Synonyms at  regret.\n",
      "1.  To seek the affection of (someone, especially a woman) with the intent to marry or begin a romantic relationship.\n",
      "1.  Of, relating to, or constituting woodland.\n",
      " (Animals) any climbing bird of the family Picidae, typically having a brightly coloured plumage and strong chisel-like bill with which they bore into trees for insects: order Piciformes\n",
      "  1.  the total number of workers in a specific undertaking:  a holiday for the company's work force. \n",
      "1.  A man who performs manual or industrial labor for wages.\n",
      "1.  A place, such as an office or factory, where people are employed.\n",
      "to grow or cause to grow worse\n",
      "1. a.  The reverent love and devotion accorded a deity, an idol, or a sacred object.b.  The ceremonies, prayers, or other religious forms by which this love is expressed: a chapel where worship is held daily.\n",
      "1. a.  A ring or circlet of freshly cut or dried flowers, boughs, or leaves worn on the head, placed on a memorial, or hung as a decoration.b.  A similar ornamental ring made of wood, plastic, or other materials.\n",
      "1.  Any of various hand or power tools, often having fixed or adjustable jaws, used for gripping, turning, or twisting objects such as nuts, bolts, or pipes, typically at an angle perpendicular to the object's axis.\n",
      "1. a.  To try to throw or immobilize another person, especially by gripping with the hands.b.  To engage in the sport of wrestling.\n",
      "1.  In a deplorable state of distress or misfortune; miserable: \"the wretched prisoners huddling in the stinking cages\" (George Orwell).\n",
      "1. a.  To twist, squeeze, or compress, especially so as to extract liquid. Often used with out: wring out a wet towel.b.  To extract (liquid) by twisting or compressing. Often used with out: wrung the water out of my bathing suit.\n"
     ]
    },
    {
     "name": "stdout",
     "output_type": "stream",
     "text": [
      " the past participle of write\n",
      " (Printing, Lithography & Bookbinding) trademark a. a xerographic copying processb. a machine employing this processc. a copy produced by this process\n",
      "1.  (Nautical Terms) a vessel propelled by sail or power, used esp for pleasure cruising, racing, etc\n",
      "1. a.  A continuous strand of twisted threads of natural or synthetic fibers, such as wool or nylon, used in weaving or knitting.b.  A similar strand of other materials such as glass or plastic.\n",
      "1.  To have a strong, often sad longing: yearn for a better life; yearn to see an old friend.\n",
      "1. a.  Any of various unicellular fungi of the genus Saccharomyces, especially S. cerevisiae, reproducing asexually by budding or sexually through the production of ascospores and capable of fermenting carbohydrates.b.  Any of numerous fungi that exhibit a one-celled growth form and reproduce by budding, including certain candidas that can cause infections in humans.\n",
      " (Currencies) the standard monetary unit of Japan, (notionally) divided into 100 sen\n",
      "1. a.  To give forth by a natural process, especially by cultivation: a field that yields many bushels of corn.b.  To furnish as return for effort or investment; be productive of: an investment that yields a high return.\n",
      "1.  also Yoga An ascetic Hindu discipline involving controlled breathing, prescribed body positions, and meditation, with the goal of attaining a state of deep spiritual insight and tranquility.\n",
      "1. a.  A contoured crossbar having two U-shaped attachments that fit around the necks of a team of oxen or other draft animals, with a central ring for hitching the team to a cart, plow, or other load.b. pl. yoke or yokes A pair of draft animals, such as oxen, joined by a yoke.c.  A bar used with a double harness to connect the collar of each horse to the pole of a wagon or coach.\n",
      "slang disgusting; sickening; nasty\n",
      "fervent or enthusiastic devotion, often extreme or fanatical in nature, as to a religious movement, political cause, ideal, or aspiration\n",
      "1.  (Elements & Compounds) a brittle bluish-white metallic element that becomes coated with a corrosion-resistant layer in moist air and occurs chiefly in sphalerite and smithsonite. It is a constituent of several alloys, esp brass and nickel-silver, and is used in die-casting, galvanizing metals, and in battery electrodes. Symbol: Zn; atomic no: 30; atomic wt: 65.39; valency: 2; relative density: 7.133; melting pt: 419.58°C; boiling pt: 907°C\n",
      "1.  A brief sharp hissing sound.\n",
      " (Knitting & Sewing) US and Canadian a fastening device operating by means of two parallel rows of metal or plastic teeth on either side of a closure that are interlocked by a sliding tab. Also called (in Britain and certain other countries): zip \n",
      "1. a.  To make a continuous low-pitched buzzing or humming sound: I heard a plane zooming overhead.b.  To move while making such a sound: couldn't hear as the motorcycle zoomed past.\n"
     ]
    }
   ],
   "source": [
    "import requests\n",
    "from bs4 import BeautifulSoup\n",
    "from openpyxl import load_workbook\n",
    "\n",
    "wb1 = load_workbook('test.xlsx')\n",
    "f = open('explanations.txt','a')\n",
    "#wb2 = Workbook()\n",
    "#ws = wb.get_sheet_by_name('Sheet1')\n",
    "ws1 = wb1.active \n",
    "#ws2 = wb2.active\n",
    "\n",
    "#f.write('\\n')\n",
    "\n",
    "for k in range(3063,3146):\n",
    "    content = ws1.cell(row=k, column=1)\n",
    "\n",
    "    r = requests.get(\"https://www.thefreedictionary.com/\"+content.value) \n",
    "    soup = BeautifulSoup(r.text,'html.parser') \n",
    "    sel = soup.find(class_ = 'ds-list')\n",
    "    \n",
    "    print(sel.text)\n",
    "    f.write(sel.text)\n",
    "    f.write('\\n')\n",
    "    \n",
    "    \n",
    "    #sheet['A2']  = sel.text\n",
    "    #ws2.save(\"test2.xlsx\")\n",
    "    \n",
    "f.close()"
   ]
  },
  {
   "cell_type": "code",
   "execution_count": null,
   "metadata": {},
   "outputs": [],
   "source": []
  },
  {
   "cell_type": "code",
   "execution_count": null,
   "metadata": {},
   "outputs": [],
   "source": []
  },
  {
   "cell_type": "code",
   "execution_count": null,
   "metadata": {},
   "outputs": [],
   "source": []
  }
 ],
 "metadata": {
  "kernelspec": {
   "display_name": "Python 3",
   "language": "python",
   "name": "python3"
  },
  "language_info": {
   "codemirror_mode": {
    "name": "ipython",
    "version": 3
   },
   "file_extension": ".py",
   "mimetype": "text/x-python",
   "name": "python",
   "nbconvert_exporter": "python",
   "pygments_lexer": "ipython3",
   "version": "3.7.4"
  }
 },
 "nbformat": 4,
 "nbformat_minor": 2
}
